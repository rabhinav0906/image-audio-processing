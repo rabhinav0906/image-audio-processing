{
 "cells": [
  {
   "cell_type": "code",
   "execution_count": null,
   "metadata": {
    "colab": {
     "base_uri": "https://localhost:8080/"
    },
    "id": "49YHoeKP6fyi",
    "outputId": "adf680d8-ee56-486e-a352-2db0b49c6ded"
   },
   "outputs": [],
   "source": [
    "pip install pydub"
   ]
  },
  {
   "cell_type": "code",
   "execution_count": null,
   "metadata": {
    "colab": {
     "base_uri": "https://localhost:8080/"
    },
    "id": "dz-uSmk0lxCb",
    "outputId": "44451ae6-c837-4a71-d487-a1b3952538ee"
   },
   "outputs": [],
   "source": [
    "pip install noisereduce"
   ]
  },
  {
   "cell_type": "code",
   "execution_count": null,
   "metadata": {
    "id": "taNjzERxK6Qz"
   },
   "outputs": [],
   "source": [
    "import librosa\n",
    "import os\n",
    "import soundfile as sf\n",
    "import IPython.display as ipd\n",
    "import numpy as np\n",
    "from IPython.display import Audio\n",
    "import pandas as pd\n",
    "from pydub import AudioSegment\n",
    "import matplotlib.pyplot as plt\n",
    "import noisereduce as nr\n",
    "import IPython.display as pyDis"
   ]
  },
  {
   "cell_type": "code",
   "execution_count": null,
   "metadata": {
    "colab": {
     "base_uri": "https://localhost:8080/",
     "height": 308
    },
    "id": "qjeZlBMM-le8",
    "outputId": "30b0f000-5913-420d-b225-fa0b1e09e767"
   },
   "outputs": [],
   "source": [
    "#All day morning audios\n",
    "m1 = 'm1.wav'\n",
    "m2 = 'm2.wav'\n",
    "m3 = 'm3.wav'\n",
    "m4 = 'm4.wav'\n",
    "m5 = 'm5.wav'\n",
    "load = [m1, m2, m3, m4, m5]\n",
    "for audio_file in load:\n",
    "  display(Audio(audio_file))"
   ]
  },
  {
   "cell_type": "code",
   "execution_count": null,
   "metadata": {
    "colab": {
     "base_uri": "https://localhost:8080/",
     "height": 308
    },
    "id": "Jq6TY9IHMPZz",
    "outputId": "d5efac79-f314-48f9-d3ed-e2d6b436c2fe"
   },
   "outputs": [],
   "source": [
    "#All day noon audios\n",
    "a1 = 'a1.wav'\n",
    "a2 = 'a2.wav'\n",
    "a3 = 'a3.wav'\n",
    "a4 = 'a4.wav'\n",
    "a5 = 'a5.wav'\n",
    "load = [a1, a2, a3, a4, a5]\n",
    "for audio_file in load:\n",
    "  display(Audio(audio_file))"
   ]
  },
  {
   "cell_type": "code",
   "execution_count": null,
   "metadata": {
    "colab": {
     "base_uri": "https://localhost:8080/",
     "height": 133
    },
    "id": "sQvkEIDdMf53",
    "outputId": "bbf14436-524d-4a3a-cdfd-d096e7831636"
   },
   "outputs": [],
   "source": [
    "#All day evening audios\n",
    "ev1 = 'ev1.wav'\n",
    "ev2 = 'ev2.wav'\n",
    "load = [ev1, ev2]\n",
    "for audio_file in load:\n",
    "  display(Audio(audio_file))"
   ]
  },
  {
   "cell_type": "code",
   "execution_count": null,
   "metadata": {
    "id": "zBGJoxVNzNPi"
   },
   "outputs": [],
   "source": [
    "#list of input audio file\n",
    "input_audio_files = [\"m1.wav\", \"m2.wav\", \"m3.wav\", \"m4.wav\", \"m5.wav\",\n",
    "\"a1.wav\", \"a2.wav\", \"a3.wav\", \"a4.wav\", \"a5.wav\",\n",
    "\"ev1.wav\", \"ev2.wav\"]"
   ]
  },
  {
   "cell_type": "code",
   "execution_count": null,
   "metadata": {
    "id": "afsHfzl135e0"
   },
   "outputs": [],
   "source": [
    "#setting folder for processed files.\n",
    "output_directory = \"processed_audio_folder\"\n",
    "os.makedirs(output_directory, exist_ok=True)"
   ]
  },
  {
   "cell_type": "code",
   "execution_count": null,
   "metadata": {
    "id": "1q0hDCdJXD9C"
   },
   "outputs": [],
   "source": [
    "sampling_rate_fixing = 44100\n",
    "duration_fixing = 12.0\n",
    "noise_red_fixing = 0.6"
   ]
  },
  {
   "cell_type": "markdown",
   "metadata": {
    "id": "wMjQPxaH4UMs"
   },
   "source": [
    "# Pre-processing part"
   ]
  },
  {
   "cell_type": "code",
   "execution_count": null,
   "metadata": {
    "colab": {
     "base_uri": "https://localhost:8080/",
     "height": 1000
    },
    "id": "hsMSkS7e4GlL",
    "outputId": "38adea2c-fd49-4fe4-f852-7d0278da34f8"
   },
   "outputs": [],
   "source": [
    "for input_audio_file in input_audio_files:\n",
    "    audio_data, original_sampling_rate = sf.read(input_audio_file)                                                #Load the original audio\n",
    "\n",
    "    #Display the original audio\n",
    "    plt.figure(figsize=(10, 5))\n",
    "    librosa.display.waveshow(audio_data, sr=original_sampling_rate)\n",
    "    plt.title(f\"Original audios: {input_audio_file}\")\n",
    "    plt.show()\n",
    "\n",
    "    #resampling using sample_rate_fixing\n",
    "    resampled_audio = librosa.resample(audio_data, orig_sr=original_sampling_rate, target_sr=sampling_rate_fixing)\n",
    "\n",
    "    #Displaying the resampled audio\n",
    "    plt.figure(figsize=(10, 5))\n",
    "    librosa.display.waveshow(resampled_audio, sr=sampling_rate_fixing)\n",
    "    plt.title(f\"Resampled Audio: {input_audio_file}\")\n",
    "    plt.show()\n",
    "\n",
    "    target_samples = int(duration_fixing * sampling_rate_fixing)\n",
    "    trimmed_audio = resampled_audio[:target_samples]\n",
    "\n",
    "    #Display the trimmed audio\n",
    "    plt.figure(figsize=(10, 5))\n",
    "    librosa.display.waveshow(trimmed_audio, sr=sampling_rate_fixing)\n",
    "    plt.title(f\"Audio with trimmed Duration: {input_audio_file}\")\n",
    "    plt.show()\n",
    "\n",
    "        #apply noise reduction\n",
    "    reduced_audio = nr.reduce_noise(y=trimmed_audio, sr=sampling_rate_fixing, prop_decrease=noise_red_fixing)\n",
    "\n",
    "    #display the noise_red audio\n",
    "    plt.figure(figsize=(10, 5))\n",
    "    librosa.display.waveshow(reduced_audio, sr=sampling_rate_fixing)\n",
    "\n",
    "    plt.title(f\"Noise_red audio: {input_audio_file}\")\n",
    "    plt.show()\n",
    "\n",
    "    audio_data, original_sampling_rate = sf.read(input_audio_file)\n",
    "    output_file = os.path.join(output_directory, f\"processed_{os.path.basename(input_audio_file)}\")\n",
    "    sf.write(output_file, reduced_audio, sampling_rate_fixing)"
   ]
  },
  {
   "cell_type": "markdown",
   "metadata": {
    "id": "KbtQa6F6z0GS"
   },
   "source": [
    "# MORNING"
   ]
  },
  {
   "cell_type": "code",
   "execution_count": null,
   "metadata": {
    "colab": {
     "base_uri": "https://localhost:8080/",
     "height": 308
    },
    "id": "N_B2wdpM6pE4",
    "outputId": "2447eacd-c8ea-459c-8c1d-d4d15f7fc3a6"
   },
   "outputs": [],
   "source": [
    "p_m1 = \"/content/processed_audio_folder/processed_m1.wav\"\n",
    "p_m2 = \"/content/processed_audio_folder/processed_m2.wav\"\n",
    "p_m3 = \"/content/processed_audio_folder/processed_m3.wav\"\n",
    "p_m4 = \"/content/processed_audio_folder/processed_m4.wav\"\n",
    "p_m5 = \"/content/processed_audio_folder/processed_m5.wav\"\n",
    "\n",
    "load = [p_m1, p_m2, p_m3, p_m4, p_m5]\n",
    "for audio_file in load:\n",
    "  display(Audio(audio_file, rate=sampling_rate_fixing))\n",
    "\n",
    "\n",
    "# Load the audio data from the files [MORNING]\n",
    "audio_data_p_m1, sr_p_m1 = librosa.load(p_m1, sr=None)\n",
    "audio_data_p_m2, sr_p_m2 = librosa.load(p_m2, sr=None)\n",
    "audio_data_p_m3, sr_p_m3 = librosa.load(p_m3, sr=None)\n",
    "audio_data_p_m4, sr_p_m4 = librosa.load(p_m4, sr=None)\n",
    "audio_data_p_m5, sr_p_m5 = librosa.load(p_m5, sr=None)\n",
    "\n",
    "# Apply FFT to the loaded audio data [MORNING]\n",
    "p_m1_fft = np.fft.fft(audio_data_p_m1)\n",
    "p_m2_fft = np.fft.fft(audio_data_p_m2)\n",
    "p_m3_fft = np.fft.fft(audio_data_p_m3)\n",
    "p_m4_fft = np.fft.fft(audio_data_p_m4)\n",
    "p_m5_fft = np.fft.fft(audio_data_p_m5)\n"
   ]
  },
  {
   "cell_type": "markdown",
   "metadata": {
    "id": "KiG6ZC4fzp3b"
   },
   "source": [
    "# AFTERNOON"
   ]
  },
  {
   "cell_type": "code",
   "execution_count": null,
   "metadata": {
    "colab": {
     "base_uri": "https://localhost:8080/",
     "height": 308
    },
    "id": "VekNqaUZy0lg",
    "outputId": "990a8eea-5ccb-4591-a8f9-2d5e53332111"
   },
   "outputs": [],
   "source": [
    "p_a1 = \"/content/processed_audio_folder/processed_a1.wav\"\n",
    "p_a2 = \"/content/processed_audio_folder/processed_a2.wav\"\n",
    "p_a3 = \"/content/processed_audio_folder/processed_a3.wav\"\n",
    "p_a4 = \"/content/processed_audio_folder/processed_a4.wav\"\n",
    "p_a5 = \"/content/processed_audio_folder/processed_a5.wav\"\n",
    "\n",
    "load = [p_a1, p_a2, p_a3, p_a4, p_a5]\n",
    "for audio_file in load:\n",
    "  display(Audio(audio_file, rate=sampling_rate_fixing))\n",
    "\n",
    "# Load the audio data from the files [AFTERNOON]\n",
    "audio_data_p_a1, sr_p_a1 = librosa.load(p_a1, sr=None)\n",
    "audio_data_p_a2, sr_p_a2 = librosa.load(p_a2, sr=None)\n",
    "audio_data_p_a3, sr_p_a3 = librosa.load(p_a3, sr=None)\n",
    "audio_data_p_a4, sr_p_a4 = librosa.load(p_a4, sr=None)\n",
    "audio_data_p_a5, sr_p_a5 = librosa.load(p_a5, sr=None)\n",
    "\n",
    "# Apply FFT to the loaded audio data [AFTERNOON]\n",
    "p_a1_fft = np.fft.fft(audio_data_p_a1)\n",
    "p_a2_fft = np.fft.fft(audio_data_p_a2)\n",
    "p_a3_fft = np.fft.fft(audio_data_p_a3)\n",
    "p_a4_fft = np.fft.fft(audio_data_p_a4)\n",
    "p_a5_fft = np.fft.fft(audio_data_p_a5)"
   ]
  },
  {
   "cell_type": "markdown",
   "metadata": {
    "id": "pHGcWxnF0g-f"
   },
   "source": [
    "# EVENING"
   ]
  },
  {
   "cell_type": "code",
   "execution_count": null,
   "metadata": {
    "colab": {
     "base_uri": "https://localhost:8080/",
     "height": 133
    },
    "id": "RFHHDCG40ay-",
    "outputId": "3f0f1f7c-ca86-454c-e9a4-4cac4117e2d6"
   },
   "outputs": [],
   "source": [
    "p_ev1 = \"/content/processed_audio_folder/processed_ev1.wav\"\n",
    "p_ev2 = \"/content/processed_audio_folder/processed_ev2.wav\"\n",
    "load = [p_ev1, p_ev2]\n",
    "for audio_file in load:\n",
    "  display(Audio(audio_file, rate=sampling_rate_fixing))\n",
    "\n",
    "# Load the audio data from the files [EVENING]\n",
    "audio_data_p_ev1, sr_p_ev1 = librosa.load(p_ev1, sr=None)\n",
    "audio_data_p_ev2, sr_p_ev2 = librosa.load(p_ev2, sr=None)\n",
    "\n",
    "# Apply FFT to the loaded audio data [EVENING]\n",
    "p_ev1_fft = np.fft.fft(audio_data_p_ev1)\n",
    "p_ev2_fft = np.fft.fft(audio_data_p_ev2)"
   ]
  },
  {
   "cell_type": "code",
   "execution_count": null,
   "metadata": {
    "colab": {
     "base_uri": "https://localhost:8080/",
     "height": 1000
    },
    "id": "7Lk3nWezqDwe",
    "outputId": "61dfb4e8-7c9f-43fe-ee14-067d6987912b"
   },
   "outputs": [],
   "source": [
    "def plotMagnitudeSpectrum(inputSignal, samplingRate, label, ratioValue):\n",
    "    abs_magnitude = np.absolute(inputSignal)\n",
    "    plt.figure(figsize=(10, 5))\n",
    "    f_spacing = np.linspace(0, samplingRate, len(abs_magnitude))\n",
    "    f_sections = int(len(abs_magnitude) * ratioValue)\n",
    "    plt.plot(f_spacing[:f_sections], abs_magnitude[:f_sections])\n",
    "    plt.xlabel('Frequency (Hz)')\n",
    "    plt.title(label)\n",
    "\n",
    "\n",
    "\n",
    "#Plotting the FFT\n",
    "#for m1\n",
    "plotMagnitudeSpectrum(p_m1_fft,sampling_rate_fixing, \"Magnitude-Frequency Plot - m1\", 0.02)\n",
    "pyDis.Audio(\"/content/processed_audio_folder/processed_m1.wav\")\n",
    "\n",
    "#for m2\n",
    "plotMagnitudeSpectrum(p_m2_fft,sampling_rate_fixing, \"Magnitude-Frequency Plot - m2\", 0.02)\n",
    "pyDis.Audio(\"/content/processed_audio_folder/processed_m2.wav\")\n",
    "\n",
    "#for m3\n",
    "plotMagnitudeSpectrum(p_m3_fft,sampling_rate_fixing, \"Magnitude-Frequency Plot - m3\", 0.02)\n",
    "pyDis.Audio(\"/content/processed_audio_folder/processed_m3.wav\")\n",
    "\n",
    "#for m4\n",
    "plotMagnitudeSpectrum(p_m4_fft,sampling_rate_fixing, \"Magnitude-Frequency Plot - m4\", 0.02)\n",
    "pyDis.Audio(\"/content/processed_audio_folder/processed_m4.wav\")\n",
    "\n",
    "#for m5\n",
    "plotMagnitudeSpectrum(p_m5_fft,sampling_rate_fixing, \"Magnitude-Frequency Plot - m5\", 0.02)\n",
    "pyDis.Audio(\"/content/processed_audio_folder/processed_m5.wav\")"
   ]
  },
  {
   "cell_type": "code",
   "execution_count": null,
   "metadata": {
    "colab": {
     "base_uri": "https://localhost:8080/",
     "height": 1000
    },
    "id": "ACyGIVoIR129",
    "outputId": "c22aaa4b-c4d2-4a21-a087-6b1d4c94abdb"
   },
   "outputs": [],
   "source": [
    "\n",
    "def plotMagnitudeSpectrum(inputSignal, samplingRate, label, ratioValue):\n",
    "    abs_magnitude = np.absolute(inputSignal)\n",
    "    plt.figure(figsize=(10, 5))\n",
    "    f_spacing = np.linspace(0, samplingRate, len(abs_magnitude))\n",
    "    f_sections = int(len(abs_magnitude) * ratioValue)\n",
    "    plt.plot(f_spacing[:f_sections], abs_magnitude[:f_sections])\n",
    "    plt.xlabel('Frequency (Hz)')\n",
    "    plt.title(label)\n",
    "\n",
    "\n",
    "#for a1\n",
    "plotMagnitudeSpectrum(p_a1_fft,sampling_rate_fixing, \"Magnitude-Frequency Plot - a1\", 0.02)\n",
    "pyDis.Audio(\"/content/processed_audio_folder/processed_a1.wav\")\n",
    "\n",
    "#for a2\n",
    "plotMagnitudeSpectrum(p_a2_fft,sampling_rate_fixing, \"Magnitude-Frequency Plot - a2\", 0.02)\n",
    "pyDis.Audio(\"/content/processed_audio_folder/processed_a2.wav\")\n",
    "\n",
    "#for a3\n",
    "plotMagnitudeSpectrum(p_a3_fft,sampling_rate_fixing, \"Magnitude-Frequency Plot - a3\", 0.02)\n",
    "pyDis.Audio(\"/content/processed_audio_folder/processed_a3.wav\")\n",
    "\n",
    "#for a4\n",
    "plotMagnitudeSpectrum(p_a4_fft,sampling_rate_fixing, \"Magnitude-Frequency Plot - a4\", 0.02)\n",
    "pyDis.Audio(\"/content/processed_audio_folder/processed_a4.wav\")\n",
    "\n",
    "#for a5\n",
    "plotMagnitudeSpectrum(p_a5_fft,sampling_rate_fixing, \"Magnitude-Frequency Plot - a5\", 0.02)\n",
    "pyDis.Audio(\"/content/processed_audio_folder/processed_a5.wav\")"
   ]
  },
  {
   "cell_type": "code",
   "execution_count": null,
   "metadata": {
    "colab": {
     "base_uri": "https://localhost:8080/",
     "height": 1000
    },
    "id": "sJFIEmdwWhVT",
    "outputId": "606416ff-03d9-48f8-a404-62e40e932e96"
   },
   "outputs": [],
   "source": [
    "def plotMagnitudeSpectrum(inputSignal, samplingRate, label, ratioValue):\n",
    "    abs_magnitude = np.absolute(inputSignal)\n",
    "    plt.figure(figsize=(10, 5))\n",
    "    f_spacing = np.linspace(0, samplingRate, len(abs_magnitude))\n",
    "    f_sections = int(len(abs_magnitude) * ratioValue)\n",
    "    plt.plot(f_spacing[:f_sections], abs_magnitude[:f_sections])\n",
    "    plt.xlabel('Frequency (Hz)')\n",
    "    plt.title(label)\n",
    "\n",
    "\n",
    "#for ev1\n",
    "plotMagnitudeSpectrum(p_ev1_fft, sampling_rate_fixing, \"Magnitude-Frequency Plot - ev1\", 0.02)\n",
    "pyDis.Audio(\"/content/processed_audio_folder/processed_ev1.wav\")\n",
    "\n",
    "#for ec2\n",
    "plotMagnitudeSpectrum(p_ev2_fft, sampling_rate_fixing, \"Magnitude-Frequency Plot - ev2\", 0.02)\n",
    "pyDis.Audio(\"/content/processed_audio_folder/processed_ev2.wav\")"
   ]
  },
  {
   "cell_type": "code",
   "execution_count": null,
   "metadata": {
    "colab": {
     "base_uri": "https://localhost:8080/",
     "height": 468
    },
    "id": "OEQQUpdK8Lcz",
    "outputId": "69fc4d14-f534-499b-ebeb-6f054264d13a"
   },
   "outputs": [],
   "source": [
    "#FOR MORNING\n",
    "loading_file = ['/content/processed_audio_folder/processed_m1.wav', '/content/processed_audio_folder/processed_m2.wav', '/content/processed_audio_folder/processed_m3.wav',\n",
    "                '/content/processed_audio_folder/processed_m4.wav', '/content/processed_audio_folder/processed_m5.wav']\n",
    "\n",
    "#calculating the mean of an audio file by creating a function\n",
    "def Mean_of_audio(audio_file_path):\n",
    "    audio_data, sr= librosa.load(audio_file_path, sr=None)\n",
    "    return np.mean(audio_data)\n",
    "\n",
    "\n",
    "# Calculate the means of all audio files\n",
    "audio_means = [ Mean_of_audio(audio_file) for audio_file in loading_file ]\n",
    "\n",
    "# Calculate the differences between means\n",
    "mean_differences = [audio_means[m] - audio_means[m - 1] for m in range(1, len(audio_means))]\n",
    "\n",
    "\n",
    "#Plotting chart\n",
    "plt.figure(figsize=(10, 5))\n",
    "\n",
    "plt.plot(range(1, len(audio_means)), mean_differences, marker='o', linestyle='-')\n",
    "plt.title('average mean differences across morning audios')\n",
    "\n",
    "plt.grid(True)\n",
    "#plt.show()"
   ]
  },
  {
   "cell_type": "code",
   "execution_count": null,
   "metadata": {
    "colab": {
     "base_uri": "https://localhost:8080/",
     "height": 468
    },
    "id": "BL7bJr06UI49",
    "outputId": "71caa171-cf79-4454-ba6d-af8a165819e0"
   },
   "outputs": [],
   "source": [
    "#FOR NOON\n",
    "loading_file = ['/content/processed_audio_folder/processed_a1.wav', '/content/processed_audio_folder/processed_a2.wav', '/content/processed_audio_folder/processed_a3.wav',\n",
    "                '/content/processed_audio_folder/processed_a4.wav', '/content/processed_audio_folder/processed_a5.wav']\n",
    "\n",
    "#calculating the mean of an audio file by creating a function\n",
    "def Mean_of_audio(audio_file_path):\n",
    "    audio_data, sr= librosa.load(audio_file_path, sr=None)\n",
    "    return np.mean(audio_data)\n",
    "\n",
    "\n",
    "# Calculate the means of all audio files\n",
    "audio_means = [ Mean_of_audio(audio_file) for audio_file in loading_file ]\n",
    "\n",
    "# Calculate the differences between means\n",
    "mean_differences = [audio_means[m] - audio_means[m - 1] for m in range(1, len(audio_means))]\n",
    "\n",
    "\n",
    "#Plotting chart\n",
    "plt.figure(figsize=(10, 5))\n",
    "\n",
    "plt.plot(range(1, len(audio_means)), mean_differences, marker='o', linestyle='-')\n",
    "plt.title('average mean differences across afternoon audios')\n",
    "\n",
    "plt.grid(True)\n",
    "plt.show()\n"
   ]
  },
  {
   "cell_type": "code",
   "execution_count": null,
   "metadata": {
    "colab": {
     "base_uri": "https://localhost:8080/",
     "height": 468
    },
    "id": "JD4JFCDMajLn",
    "outputId": "e41afa18-341c-4fbc-8487-d57033724651"
   },
   "outputs": [],
   "source": [
    "#FOR NOON\n",
    "loading_file = ['/content/processed_audio_folder/processed_ev1.wav', '/content/processed_audio_folder/processed_ev2.wav']\n",
    "\n",
    "#calculating the mean of an audio file by creating a function\n",
    "def Mean_of_audio(audio_file_path):\n",
    "    audio_data, sr= librosa.load(audio_file_path, sr=None)\n",
    "    return np.mean(audio_data)\n",
    "\n",
    "\n",
    "# Calculate the means of all audio files\n",
    "audio_means = [ Mean_of_audio(audio_file) for audio_file in loading_file ]\n",
    "\n",
    "# Calculate the differences between means\n",
    "mean_differences = [audio_means[m] - audio_means[m - 1] for m in range(1, len(audio_means))]\n",
    "\n",
    "\n",
    "#Plotting chart\n",
    "plt.figure(figsize=(10, 5))\n",
    "\n",
    "plt.plot(range(1, len(audio_means)), mean_differences, marker='o', linestyle='-')\n",
    "plt.title('average mean differences across afternoon audios')\n",
    "\n",
    "plt.grid(True)\n",
    "plt.show()\n"
   ]
  }
 ],
 "metadata": {
  "colab": {
   "provenance": []
  },
  "kernelspec": {
   "display_name": "Python 3 (ipykernel)",
   "language": "python",
   "name": "python3"
  },
  "language_info": {
   "codemirror_mode": {
    "name": "ipython",
    "version": 3
   },
   "file_extension": ".py",
   "mimetype": "text/x-python",
   "name": "python",
   "nbconvert_exporter": "python",
   "pygments_lexer": "ipython3",
   "version": "3.11.3"
  }
 },
 "nbformat": 4,
 "nbformat_minor": 1
}
